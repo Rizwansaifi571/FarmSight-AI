{
 "cells": [
  {
   "attachments": {},
   "cell_type": "markdown",
   "id": "92e48866",
   "metadata": {},
   "source": [
    "## Model Training"
   ]
  },
  {
   "cell_type": "markdown",
   "id": "25791a74",
   "metadata": {},
   "source": [
    "#### 1.1 Import Data and Required Packages\n",
    "##### Importing Pandas, Numpy, Matplotlib, Seaborn and Warings Library."
   ]
  },
  {
   "cell_type": "code",
   "execution_count": 1,
   "id": "b080dfb2",
   "metadata": {},
   "outputs": [],
   "source": [
    "# Basic Import\n",
    "import numpy as np\n",
    "import pandas as pd\n",
    "import matplotlib.pyplot as plt \n",
    "import seaborn as sns\n",
    "# Modelling\n",
    "from sklearn.metrics import mean_squared_error, r2_score\n",
    "from sklearn.neighbors import KNeighborsRegressor\n",
    "from sklearn.tree import DecisionTreeRegressor\n",
    "from sklearn.ensemble import RandomForestRegressor,AdaBoostRegressor\n",
    "from sklearn.svm import SVR\n",
    "from sklearn.linear_model import LinearRegression, Ridge,Lasso\n",
    "from sklearn.metrics import r2_score, mean_absolute_error, mean_squared_error\n",
    "from sklearn.model_selection import RandomizedSearchCV\n",
    "from catboost import CatBoostRegressor\n",
    "from xgboost import XGBRegressor\n",
    "import warnings"
   ]
  },
  {
   "cell_type": "markdown",
   "id": "e45079ad",
   "metadata": {},
   "source": [
    "#### Import the CSV Data as Pandas DataFrame"
   ]
  },
  {
   "cell_type": "code",
   "execution_count": 2,
   "id": "e11c6255",
   "metadata": {},
   "outputs": [],
   "source": [
    "df = pd.read_csv('data/raw.csv')"
   ]
  },
  {
   "cell_type": "markdown",
   "id": "20634923",
   "metadata": {},
   "source": [
    "#### Show Top 5 Records"
   ]
  },
  {
   "cell_type": "code",
   "execution_count": 3,
   "id": "e7e412a2",
   "metadata": {},
   "outputs": [
    {
     "data": {
      "text/html": [
       "<div>\n",
       "<style scoped>\n",
       "    .dataframe tbody tr th:only-of-type {\n",
       "        vertical-align: middle;\n",
       "    }\n",
       "\n",
       "    .dataframe tbody tr th {\n",
       "        vertical-align: top;\n",
       "    }\n",
       "\n",
       "    .dataframe thead th {\n",
       "        text-align: right;\n",
       "    }\n",
       "</style>\n",
       "<table border=\"1\" class=\"dataframe\">\n",
       "  <thead>\n",
       "    <tr style=\"text-align: right;\">\n",
       "      <th></th>\n",
       "      <th>State</th>\n",
       "      <th>District</th>\n",
       "      <th>Crop</th>\n",
       "      <th>Crop_Year</th>\n",
       "      <th>Season</th>\n",
       "      <th>Area</th>\n",
       "      <th>Production</th>\n",
       "      <th>Yield</th>\n",
       "    </tr>\n",
       "  </thead>\n",
       "  <tbody>\n",
       "    <tr>\n",
       "      <th>0</th>\n",
       "      <td>Jharkhand</td>\n",
       "      <td>RAMGARH</td>\n",
       "      <td>Potato</td>\n",
       "      <td>2013</td>\n",
       "      <td>Winter</td>\n",
       "      <td>1361.0</td>\n",
       "      <td>7544.0</td>\n",
       "      <td>5.54</td>\n",
       "    </tr>\n",
       "    <tr>\n",
       "      <th>1</th>\n",
       "      <td>Jammu and Kashmir</td>\n",
       "      <td>REASI</td>\n",
       "      <td>Moong(Green Gram)</td>\n",
       "      <td>2015</td>\n",
       "      <td>Kharif</td>\n",
       "      <td>13.0</td>\n",
       "      <td>9.0</td>\n",
       "      <td>0.70</td>\n",
       "    </tr>\n",
       "    <tr>\n",
       "      <th>2</th>\n",
       "      <td>Haryana</td>\n",
       "      <td>GURGAON</td>\n",
       "      <td>Sweet potato</td>\n",
       "      <td>2009</td>\n",
       "      <td>Whole Year</td>\n",
       "      <td>39.0</td>\n",
       "      <td>800.0</td>\n",
       "      <td>20.51</td>\n",
       "    </tr>\n",
       "    <tr>\n",
       "      <th>3</th>\n",
       "      <td>Uttar Pradesh</td>\n",
       "      <td>JALAUN</td>\n",
       "      <td>Sannhamp</td>\n",
       "      <td>2010</td>\n",
       "      <td>Kharif</td>\n",
       "      <td>9.0</td>\n",
       "      <td>3.0</td>\n",
       "      <td>0.33</td>\n",
       "    </tr>\n",
       "    <tr>\n",
       "      <th>4</th>\n",
       "      <td>Tamil Nadu</td>\n",
       "      <td>MADURAI</td>\n",
       "      <td>Sugarcane</td>\n",
       "      <td>2006</td>\n",
       "      <td>Whole Year</td>\n",
       "      <td>6006.0</td>\n",
       "      <td>656204.0</td>\n",
       "      <td>109.26</td>\n",
       "    </tr>\n",
       "  </tbody>\n",
       "</table>\n",
       "</div>"
      ],
      "text/plain": [
       "               State District               Crop  Crop_Year       Season  \\\n",
       "0          Jharkhand  RAMGARH             Potato       2013  Winter        \n",
       "1  Jammu and Kashmir    REASI  Moong(Green Gram)       2015  Kharif        \n",
       "2            Haryana  GURGAON       Sweet potato       2009  Whole Year    \n",
       "3      Uttar Pradesh   JALAUN           Sannhamp       2010  Kharif        \n",
       "4         Tamil Nadu  MADURAI          Sugarcane       2006  Whole Year    \n",
       "\n",
       "     Area  Production   Yield  \n",
       "0  1361.0      7544.0    5.54  \n",
       "1    13.0         9.0    0.70  \n",
       "2    39.0       800.0   20.51  \n",
       "3     9.0         3.0    0.33  \n",
       "4  6006.0    656204.0  109.26  "
      ]
     },
     "execution_count": 3,
     "metadata": {},
     "output_type": "execute_result"
    }
   ],
   "source": [
    "df.head()"
   ]
  },
  {
   "cell_type": "markdown",
   "id": "fbd32281",
   "metadata": {},
   "source": [
    "#### Preparing X and Y variables"
   ]
  },
  {
   "cell_type": "code",
   "execution_count": 4,
   "id": "56d72fde",
   "metadata": {},
   "outputs": [],
   "source": [
    "X = df.drop(columns=['Yield'], axis=1)"
   ]
  },
  {
   "cell_type": "code",
   "execution_count": 5,
   "id": "cd613177",
   "metadata": {},
   "outputs": [
    {
     "data": {
      "text/html": [
       "<div>\n",
       "<style scoped>\n",
       "    .dataframe tbody tr th:only-of-type {\n",
       "        vertical-align: middle;\n",
       "    }\n",
       "\n",
       "    .dataframe tbody tr th {\n",
       "        vertical-align: top;\n",
       "    }\n",
       "\n",
       "    .dataframe thead th {\n",
       "        text-align: right;\n",
       "    }\n",
       "</style>\n",
       "<table border=\"1\" class=\"dataframe\">\n",
       "  <thead>\n",
       "    <tr style=\"text-align: right;\">\n",
       "      <th></th>\n",
       "      <th>State</th>\n",
       "      <th>District</th>\n",
       "      <th>Crop</th>\n",
       "      <th>Crop_Year</th>\n",
       "      <th>Season</th>\n",
       "      <th>Area</th>\n",
       "      <th>Production</th>\n",
       "    </tr>\n",
       "  </thead>\n",
       "  <tbody>\n",
       "    <tr>\n",
       "      <th>0</th>\n",
       "      <td>Jharkhand</td>\n",
       "      <td>RAMGARH</td>\n",
       "      <td>Potato</td>\n",
       "      <td>2013</td>\n",
       "      <td>Winter</td>\n",
       "      <td>1361.0</td>\n",
       "      <td>7544.0</td>\n",
       "    </tr>\n",
       "    <tr>\n",
       "      <th>1</th>\n",
       "      <td>Jammu and Kashmir</td>\n",
       "      <td>REASI</td>\n",
       "      <td>Moong(Green Gram)</td>\n",
       "      <td>2015</td>\n",
       "      <td>Kharif</td>\n",
       "      <td>13.0</td>\n",
       "      <td>9.0</td>\n",
       "    </tr>\n",
       "    <tr>\n",
       "      <th>2</th>\n",
       "      <td>Haryana</td>\n",
       "      <td>GURGAON</td>\n",
       "      <td>Sweet potato</td>\n",
       "      <td>2009</td>\n",
       "      <td>Whole Year</td>\n",
       "      <td>39.0</td>\n",
       "      <td>800.0</td>\n",
       "    </tr>\n",
       "    <tr>\n",
       "      <th>3</th>\n",
       "      <td>Uttar Pradesh</td>\n",
       "      <td>JALAUN</td>\n",
       "      <td>Sannhamp</td>\n",
       "      <td>2010</td>\n",
       "      <td>Kharif</td>\n",
       "      <td>9.0</td>\n",
       "      <td>3.0</td>\n",
       "    </tr>\n",
       "    <tr>\n",
       "      <th>4</th>\n",
       "      <td>Tamil Nadu</td>\n",
       "      <td>MADURAI</td>\n",
       "      <td>Sugarcane</td>\n",
       "      <td>2006</td>\n",
       "      <td>Whole Year</td>\n",
       "      <td>6006.0</td>\n",
       "      <td>656204.0</td>\n",
       "    </tr>\n",
       "  </tbody>\n",
       "</table>\n",
       "</div>"
      ],
      "text/plain": [
       "               State District               Crop  Crop_Year       Season  \\\n",
       "0          Jharkhand  RAMGARH             Potato       2013  Winter        \n",
       "1  Jammu and Kashmir    REASI  Moong(Green Gram)       2015  Kharif        \n",
       "2            Haryana  GURGAON       Sweet potato       2009  Whole Year    \n",
       "3      Uttar Pradesh   JALAUN           Sannhamp       2010  Kharif        \n",
       "4         Tamil Nadu  MADURAI          Sugarcane       2006  Whole Year    \n",
       "\n",
       "     Area  Production  \n",
       "0  1361.0      7544.0  \n",
       "1    13.0         9.0  \n",
       "2    39.0       800.0  \n",
       "3     9.0         3.0  \n",
       "4  6006.0    656204.0  "
      ]
     },
     "execution_count": 5,
     "metadata": {},
     "output_type": "execute_result"
    }
   ],
   "source": [
    "X.head()"
   ]
  },
  {
   "cell_type": "code",
   "execution_count": 6,
   "id": "f237ea14",
   "metadata": {},
   "outputs": [
    {
     "name": "stdout",
     "output_type": "stream",
     "text": [
      "Categories in 'State' variable:      ['Jharkhand' 'Jammu and Kashmir' 'Haryana' 'Uttar Pradesh' 'Tamil Nadu'\n",
      " 'Tripura' 'Rajasthan' 'Andhra Pradesh' 'Karnataka' 'Madhya Pradesh'\n",
      " 'Assam' 'Bihar' 'West Bengal' 'Maharashtra' 'Odisha' 'Chhattisgarh'\n",
      " 'Meghalaya' 'Gujarat' 'Arunachal Pradesh' 'Himachal Pradesh' 'Manipur'\n",
      " 'Nagaland' 'Uttarakhand' 'Kerala' 'Goa' 'Mizoram' 'Telangana' 'Punjab'\n",
      " 'THE DADRA AND NAGAR HAVELI' 'Laddak' 'Puducherry' 'Delhi'\n",
      " 'Andaman and Nicobar Island' 'CHANDIGARH' 'Sikkim' 'Daman and Diu'\n",
      " 'Dadra and Nagar Haveli']\n",
      "Categories in 'District' variable:   ['RAMGARH' 'REASI' 'GURGAON' 'JALAUN' 'MADURAI' 'BALLIA' 'FARIDABAD'\n",
      " 'NORTH TRIPURA' 'PALI' 'EAST GODAVARI' 'UDUPI' 'BHIND' 'DIMA HASAO'\n",
      " 'SAMASTIPUR' 'KATIHAR' 'BIRBHUM' 'DAVANGERE' 'NAGPUR' 'SATARA' 'ARARIA'\n",
      " 'SONEPUR' 'SRIKAKULAM' 'MANDYA' 'GOPALGANJ' 'BULANDSHAHR' 'BALRAMPUR'\n",
      " 'VARANASI' 'NALGONDA' 'SIROHI' 'LALITPUR' 'BEGUSARAI' 'BIDAR'\n",
      " 'GARIYABAND' 'KANCHIPURAM' 'HOSHANGABAD' 'EAST GARO HILLS'\n",
      " 'SIDDHARTH NAGAR' 'TUMAKURU' 'ALIGARH' 'KOLAR' 'HASSAN' 'KAMRUP METRO'\n",
      " 'NARMADA' 'MEERUT' 'SOUTH GARO HILLS' 'KAMLE' 'KENDUJHAR' 'GODDA'\n",
      " 'HARDOI' 'SIRMAUR' 'ANANTNAG' 'BHOPAL' 'RAIGARH' 'AMBALA'\n",
      " 'EAST KHASI HILLS' 'THOUBAL' 'BILASPUR' 'THIRUVARUR' 'DINDORI'\n",
      " 'NABARANGPUR' 'GUNA' 'ZUNHEBOTO' 'RAE BARELI' 'PURNIA'\n",
      " 'LOWER DIBANG VALLEY' 'UTTARA KANNADA' 'PITHORAGARH' 'KANPUR DEHAT'\n",
      " 'JALORE' 'GHAZIPUR' 'PANNA' 'DANTEWADA' 'VIJAYAPURA' 'HARIDWAR'\n",
      " 'WEST GODAVARI' 'KHANDWA' 'RAJAURI' 'KOPPAL' 'AURANGABAD' 'KURNOOL'\n",
      " 'KOKRAJHAR' 'RAICHUR' 'DHULE' 'VALSAD' 'AMBEDKAR NAGAR' 'ARWAL'\n",
      " 'BAGALKOTE' 'NARSINGHPUR' 'TUENSANG' 'SURGUJA' 'CHAMOLI' 'BHAGALPUR'\n",
      " 'GHAZIABAD' 'ERNAKULAM' 'SAGAR' 'KISHANGANJ' 'SHIVAMOGGA' 'FIROZABAD'\n",
      " 'CHURU' 'MAHENDRAGARH' 'MAHBUBNAGAR' 'SHAHJAHANPUR' 'SULTANPUR' 'ROHTAS'\n",
      " 'KONDAGAON' 'SINDHUDURG' 'FATEHPUR' 'GIR SOMNATH' 'KINNAUR' 'NANDED'\n",
      " 'SHAJAPUR' 'AMRELI' 'BEED' 'PUDUKKOTTAI' 'SURENDRANAGAR' 'NAMAKKAL'\n",
      " 'KURUKSHETRA' 'SHIMLA' 'WEST KHASI HILLS' 'INDORE' 'MANDI' 'WAYANAD'\n",
      " 'MATHURA' 'TIRUCHIRAPPALLI' 'VELLORE' 'KHAGARIA' 'DAMOH' 'SOUTH GOA'\n",
      " 'MAU' 'DHAR' 'RAJSAMAND' 'DARBHANGA' 'BHARATPUR' 'DARRANG' 'KASARAGOD'\n",
      " 'TONK' 'PILIBHIT' 'SERCHHIP' 'GONDIA' 'THE NILGIRIS' 'ANUGUL'\n",
      " 'CHHINDWARA' 'DIBRUGARH' 'LAKHIMPUR' 'LONGLENG' 'TUTICORIN' 'UDAIPUR'\n",
      " 'NAGARKURNOOL' 'TAPI' 'SUNDARGARH' 'KRISHNA' 'CHAMPAWAT' 'KANPUR NAGAR'\n",
      " 'MUNGER' 'KARAULI' 'KAUSHAMBI' 'ALMORA' 'LOHIT' 'BIJNOR' 'RUDRA PRAYAG'\n",
      " 'MADHEPURA' 'SIVASAGAR' 'SEONI' 'DHAMTARI' 'AMRAVATI' 'THANE' 'LUDHIANA'\n",
      " 'PURBI CHAMPARAN' 'AIZAWL' 'JAIPUR' 'DUNGARPUR' 'GANJAM' 'BARPETA'\n",
      " 'MEDAK' 'MAYURBHANJ' 'SOLAN' 'MADHUBANI' 'SURAT' 'GOALPARA' 'ETAH'\n",
      " 'DINDIGUL' 'JALPAIGURI' 'SUKMA' 'KORAPUT' 'HAILAKANDI' 'ERODE' 'JUNAGADH'\n",
      " 'JHARSUGUDA' 'RANGAREDDI' 'KHUNTI' 'MON' 'SANT KABEER NAGAR' 'CACHAR'\n",
      " 'SEHORE' 'FAIZABAD' 'GAYA' 'ARIYALUR' 'KOLHAPUR' 'HATHRAS' 'PAPUM PARE'\n",
      " 'AURAIYA' 'KANNIYAKUMARI' 'SAIHA' 'UNNAO' 'DODA' 'BUNDI'\n",
      " 'WEST GARO HILLS' 'DATIA' 'PURI' 'RATNAGIRI' 'KARUR' 'DEWAS'\n",
      " 'DADRA AND NAGAR HAVELI' 'VADODARA' 'ALWAR' 'KARBI ANGLONG' 'SANGLI'\n",
      " 'PALAKKAD' 'KORBA' 'BONGAIGAON' 'KANDHAMAL' 'BHOJPUR' 'GANGANAGAR'\n",
      " 'VISAKHAPATANAM' 'LATEHAR' 'NALBARI' 'SHIVPURI' 'LAWNGTLAI' 'DIMAPUR'\n",
      " 'JODHPUR' 'DAKSHINA KANNADA' 'BIJAPUR' 'GADAG' 'RATLAM' 'SABAR KANTHA'\n",
      " 'SHRAVASTI' 'CUTTACK' 'BARWANI' 'JORHAT' 'KANKER' 'CHITRAKOOT' 'KHEDA'\n",
      " 'BAREILLY' 'SAMBALPUR' 'SUPAUL' 'ALIRAJPUR' 'HAMIRPUR' 'PHEK'\n",
      " 'LAKHISARAI' 'MALKANGIRI' 'BUDAUN' 'DHARWAD' 'ANAND' 'JALNA' 'TINSUKIA'\n",
      " 'MALAPPURAM' 'SALEM' 'MORENA' 'DHUBRI' 'YADADRI' 'HANUMANGARH'\n",
      " 'BANGALORE RURAL' 'JABALPUR' 'SONITPUR' 'CHANGLANG' 'CHANDAULI' 'MANDLA'\n",
      " 'RAMANAGARA' 'JALGAON' 'LEH LADAKH' 'UDHAMPUR' 'MAHASAMUND' 'JIND'\n",
      " 'SAHARANPUR' 'KANGRA' 'TIKAMGARH' 'SHAHDOL' 'CHATRA' 'VAISHALI' 'PEREN'\n",
      " 'SAHARSA' 'BALLARI' 'BALANGIR' 'UMARIA' 'PUNE' 'BALODA BAZAR' 'NIRMAL'\n",
      " 'IMPHAL WEST' 'PAURI GARHWAL' 'TIRUPPUR' 'MOKOKCHUNG' 'PULWAMA' 'BHIWANI'\n",
      " 'KUSHI NAGAR' 'JANJGIR-CHAMPA' 'PONDICHERRY' 'FARRUKHABAD' 'BOUDH'\n",
      " 'NORTH GOA' 'BHARUCH' 'RAJNANDGAON' 'SARAN' 'NIZAMABAD' 'PALGHAR'\n",
      " 'ADILABAD' 'HINGOLI' 'BEMETARA' 'DHANBAD' 'BISHNUPUR' 'PALAMU' 'SIRSA'\n",
      " 'MURSHIDABAD' 'JASHPUR' 'NADIA' 'KATNI' 'BHAVNAGAR' 'MUZAFFARPUR' 'BUXAR'\n",
      " 'KOTA' 'MAHARAJGANJ' 'TEHRI GARHWAL' 'REWARI' 'GOLAGHAT' 'NALANDA'\n",
      " 'HOWRAH' 'CHAMARAJANAGARA' 'MALDAH' 'KHAMMAM' 'DAUSA' 'YAMUNANAGAR'\n",
      " 'BATHINDA' 'SIDDIPET' 'DHENKANAL' 'KANNUR' 'WEST SINGHBHUM' 'DARJEELING'\n",
      " 'LATUR' 'KASGANJ' 'KADAPA' 'CHANDEL' 'MAHESANA' 'WOKHA' 'RAISEN'\n",
      " 'GORAKHPUR' 'HOOGHLY' 'WARDHA' 'NANDURBAR' 'CHITRADURGA'\n",
      " 'KAIMUR (BHABUA)' 'PANCHKULA' 'THANJAVUR' 'NUAPADA' 'BANKURA' 'DEOGARH'\n",
      " 'UDAM SINGH NAGAR' 'PURBA BARDHAMAN' 'EAST SIANG' 'DEVBHUMI DWARKA'\n",
      " 'BIKANER' 'KRISHNAGIRI' 'MARIGAON' 'ARAVALLI' 'YADAGIRI' 'DHEMAJI'\n",
      " 'RAMPUR' 'DEHRADUN' 'MANDSAUR' 'BENGALURU URBAN' 'NAGAUR' 'EAST KAMENG'\n",
      " 'JAISALMER' 'BADGAM' 'DOHAD' 'PARBHANI' 'NAGAPATTINAM' 'CUDDALORE'\n",
      " 'MYSURU' 'ETAWAH' 'KOHIMA' 'CHURACHANDPUR' 'LOWER SUBANSIRI' 'FAZILKA'\n",
      " 'CHHATARPUR' 'BELAGAVI' 'SIMDEGA' 'KALABURAGI' 'MORADABAD'\n",
      " 'JAGATSINGHAPUR' 'COIMBATORE' 'WARANGAL' 'BANSWARA' 'THIRUVALLUR'\n",
      " 'PARAGANAS NORTH' 'JHABUA' 'MIRZAPUR' 'AHMADABAD' 'BASTI' 'PRAKASAM'\n",
      " 'UKHRUL' 'KUPWARA' 'JHUNJHUNU' 'BASTAR' 'LUNGLEI' 'NEEMUCH'\n",
      " 'CHIKKAMAGALURU' 'THRISSUR' 'BHILWARA' 'KALAHANDI' 'SHEIKHPURA' 'SOLAPUR'\n",
      " 'KAMAREDDY' 'GUNTUR' 'CHITTOOR' 'SAWAI MADHOPUR' 'MANSA' 'DELHI_TOTAL'\n",
      " 'MAHOBA' 'KARAIKAL' 'COOCHBEHAR' 'SIVAGANGA' 'RAMANATHAPURAM' 'JAJAPUR'\n",
      " 'PARAGANAS SOUTH' 'JAMUI' 'SEPAHIJALA' 'KULGAM' 'KARNAL' 'BULDHANA'\n",
      " 'SHOPIAN' 'KOLASIB' 'BALOD' 'BALESHWAR' 'KULLU' 'UTTAR KASHI'\n",
      " 'BANAS KANTHA' 'GARHWA' 'DEOGHAR' 'RANCHI' 'PANCH MAHALS'\n",
      " 'MEDINIPUR EAST' 'SOUTH ANDAMANS' 'PATNA' 'SRINAGAR' 'NAINITAL'\n",
      " 'SURAJPUR' 'BAGHPAT' 'UDALGURI' 'PANIPAT' 'ANANTAPUR' 'GAJAPATI'\n",
      " 'AMRITSAR' 'KHORDHA' 'NAWADA' 'OSMANABAD' 'SIKAR' 'KOTTAYAM'\n",
      " 'UPPER SIANG' 'HOSHIARPUR' 'SITAMARHI' 'BHANDARA' 'MAHABUBABAD' 'NAGAON'\n",
      " 'SAMBHAL' 'JAMNAGAR' 'FATEHABAD' 'DURG' 'VIZIANAGARAM' 'CHITTORGARH'\n",
      " 'TIRAP' 'PASCHIM BARDHAMAN\\n' 'SPSR NELLORE' 'GONDA' 'NORTH GARO HILLS'\n",
      " 'MEWAT' 'WEST JAINTIA HILLS' 'NAYAGARH' 'TAMENGLONG' 'MEDINIPUR WEST'\n",
      " 'ANUPPUR' 'CHIKKABALLAPURA' 'MAINPURI' 'KOLLAM' 'BANKA' 'SHEOPUR'\n",
      " 'HAVERI' 'JAUNPUR' 'WEST TRIPURA' 'NASHIK' 'VILLUPURAM' 'DINAJPUR UTTAR'\n",
      " 'KABIRDHAM' 'AZAMGARH' 'RAJKOT' 'SANT RAVIDAS NAGAR' 'WANAPARTHY'\n",
      " 'RAIGAD' 'JAMTARA' 'DANG' 'EAST SINGHBUM' 'KODAGU' 'SHEOHAR' 'SANGRUR'\n",
      " 'BAGESHWAR' 'KHERI' 'EAST JAINTIA HILLS' 'PRATAPGARH' 'RAYAGADA' 'DUMKA'\n",
      " 'RI BHOI' 'TIRUNELVELI' 'KARIMNAGAR' 'JEHANABAD' 'KACHCHH'\n",
      " 'THIRUVANANTHAPURAM' 'GURDASPUR' 'YAVATMAL' 'BAKSA' 'GADCHIROLI'\n",
      " 'DHARMAPURI' 'ALAPPUZHA' 'SONIPAT' 'UNAKOTI' 'KENDRAPARA' 'BALAGHAT'\n",
      " 'CHANDIGARH' 'SOUTH TRIPURA' 'KARIMGANJ' 'DIBANG VALLEY' 'PATAN' 'KATHUA'\n",
      " 'KOREA' 'HAZARIBAGH' 'UJJAIN' 'MUKTSAR' 'MORBI' 'RAIPUR' 'CHIRANG'\n",
      " 'KHARGONE' 'BARAMULLA' 'SIWAN' 'BARABANKI' 'HISAR' 'SAHEBGANJ' 'KAMRUP'\n",
      " 'WEST SIANG' 'AMROHA' 'PURULIA' 'GWALIOR' 'NICOBARS' 'PATHANKOT'\n",
      " 'PERAMBALUR' 'THENI' 'BAHRAICH' 'HARDA' 'REWA' 'MOGA' 'JHALAWAR' 'SATNA'\n",
      " 'AHMEDNAGAR' 'SONBHADRA' 'PORBANDAR' 'RAJGARH' 'MAHISAGAR' 'SAMBA'\n",
      " 'PASHCHIM CHAMPARAN' 'AKOLA' 'ASHOKNAGAR' 'DHOLPUR' 'CHANDRAPUR'\n",
      " 'LUCKNOW' 'NAMSAI' 'MUNGELI' 'JOGULAMBA' 'VIRUDHUNAGAR' 'IMPHAL EAST'\n",
      " 'AGAR MALWA' 'KARGIL' 'KIPHIRE' 'JAGITIAL' 'DHALAI' 'HAPUR' 'AMETHI'\n",
      " 'CHHOTAUDEPUR' 'GANDHINAGAR' 'JHAJJAR' 'AGRA' 'BOKARO' 'DINAJPUR DAKSHIN'\n",
      " 'KANNAUJ' 'BURHANPUR' 'ANJAW' 'KOZHIKODE' 'DEORIA' 'NARAYANPUR'\n",
      " 'SANGAREDDY' 'SIDHI' 'CHAMPHAI' 'BANDA' 'ALLAHABAD' 'WEST KAMENG'\n",
      " 'FATEHGARH SAHIB' 'JHANSI' 'BARMER' 'MAMIT' 'PAKUR' 'BOTAD' 'AJMER'\n",
      " 'PALWAL' 'BARGARH' 'BHADRAK' 'MUZAFFARNAGAR' 'PATIALA' 'CHAMBA' 'KODERMA'\n",
      " 'VIDISHA' 'SITAPUR' 'JHARGRAM\\n' 'EAST DISTRICT' 'SOUTH WEST KHASI HILLS'\n",
      " 'SOUTH WEST GARO HILLS' 'WASHIM' 'GIRIDIH' 'UNA' 'SINGRAULI'\n",
      " 'JAYASHANKAR' 'TIRUPATHUR' 'SENAPATI' 'KAITHAL' 'GOMATI' 'ROHTAK'\n",
      " 'NAVSARI' 'TIRUVANNAMALAI' 'LOHARDAGA' 'VIKARABAD' 'GAUTAM BUDDHA NAGAR'\n",
      " 'JAMMU' 'JALANDHAR' 'TARN TARAN' 'RUPNAGAR' 'BETUL' 'YANAM'\n",
      " 'NORTH AND MIDDLE ANDAMAN' 'ALIPURDUAR' 'S NAGAR' 'SHAMLI' 'KHOWAI'\n",
      " 'SURYAPET' 'TAWANG' 'BARAN' 'PATHANAMTHITTA' 'SARAIKELA KHARSAWAN'\n",
      " 'CHARKI DADRI' 'IDUKKI' 'POONCH' 'LAHUL AND SPITI' 'SIANG'\n",
      " 'NORTH DISTRICT' 'KALIMPONG\\n' 'UPPER SUBANSIRI' 'GUMLA' 'MANCHERIAL'\n",
      " 'BANDIPORA' 'PEDDAPALLI' 'RAMBAN' 'BARNALA' 'LOWER SIANG' 'FARIDKOT'\n",
      " 'KOMARAM BHEEM ASIFABAD' 'KAPURTHALA' 'FIROZEPUR' 'KISHTWAR'\n",
      " 'SHAHID BHAGAT SINGH NAGAR' 'MAHE' 'MEDCHAL MALKAJGIRI' 'BHADRADRI'\n",
      " 'KRA DAADI' 'DIU' 'SOUTH DISTRICT' 'RAJANNA' 'WEST DISTRICT' 'JANGOAN'\n",
      " 'HANUMAKONDA\\n' 'KURUNG KUMEY' 'KALLAKURICHI' 'NARAYANAPET' 'GANDERBAL'\n",
      " 'LEPARADA' 'LONGDING' 'HYDERABAD' 'MAJULI\\n' 'MULUGU'\n",
      " 'GAURELLA-PENDRA-MARWAHI' 'SHI YOMI' 'NIWARI' 'PAKKE KESSANG' 'TENKASI'\n",
      " 'DAMAN' 'BISWANATH\\n' 'HOJAI\\n' 'RANIPET' 'MUMBAI SUBURBAN'\n",
      " 'CHENGALPATTU' 'WEST KARBI ANGLONG\\n' 'MUMBAI' 'CHARAIDEO\\n' 'CHENNAI'\n",
      " 'SOUTH SALMARA MANCACHAR\\n']\n",
      "Categories in 'Crop' variable:       ['Potato' 'Moong(Green Gram)' 'Sweet potato' 'Sannhamp' 'Sugarcane'\n",
      " 'Bajra' 'Cotton(lint)' 'Wheat' 'Dry chillies' 'Ginger' 'Turmeric'\n",
      " 'Other Kharif pulses' 'Khesari' 'Horse-gram' 'Onion' 'Other  Rabi pulses'\n",
      " 'Masoor' 'Tobacco' 'Urad' 'Sesamum' 'Rice' 'Groundnut' 'Mesta'\n",
      " 'Cashewnut' 'Soyabean' 'Maize' 'Jowar' 'Coconut ' 'Banana'\n",
      " 'Rapeseed &Mustard' 'Gram' 'Small millets' 'Peas & beans (Pulses)'\n",
      " 'Coriander' 'Niger seed' 'Linseed' 'Cowpea(Lobia)' 'Arhar/Tur'\n",
      " 'Sunflower' 'Barley' 'Arecanut' 'Ragi' 'Safflower' 'Castor seed'\n",
      " 'Black pepper' 'Garlic' 'Moth' 'other oilseeds' 'Tapioca' 'Other Cereals'\n",
      " 'Guar seed' 'Cardamom' 'Other Summer Pulses' 'Oilseeds total' 'Jute' nan]\n",
      "Categories in 'Season' variable:     ['Winter     ' 'Kharif     ' 'Whole Year ' 'Rabi       ' 'Summer     '\n",
      " 'Autumn     ']\n"
     ]
    }
   ],
   "source": [
    "print(\"Categories in 'State' variable:     \", end=\" \")\n",
    "print(df['State'].unique())\n",
    "\n",
    "print(\"Categories in 'District' variable:  \", end=\" \")\n",
    "print(df['District'].unique())\n",
    "\n",
    "print(\"Categories in 'Crop' variable:      \", end=\" \")\n",
    "print(df['Crop'].unique())\n",
    "\n",
    "print(\"Categories in 'Season' variable:    \", end=\" \")\n",
    "print(df['Season'].unique())\n"
   ]
  },
  {
   "cell_type": "code",
   "execution_count": 7,
   "id": "924b7f9d",
   "metadata": {},
   "outputs": [],
   "source": [
    "y = df['Yield']"
   ]
  },
  {
   "cell_type": "code",
   "execution_count": 8,
   "id": "ffc69816",
   "metadata": {},
   "outputs": [
    {
     "data": {
      "text/plain": [
       "0             5.54\n",
       "1             0.70\n",
       "2            20.51\n",
       "3             0.33\n",
       "4           109.26\n",
       "            ...   \n",
       "272296        4.40\n",
       "272297        0.54\n",
       "272298    14054.41\n",
       "272299        0.22\n",
       "272300        0.41\n",
       "Name: Yield, Length: 272301, dtype: float64"
      ]
     },
     "execution_count": 8,
     "metadata": {},
     "output_type": "execute_result"
    }
   ],
   "source": [
    "y"
   ]
  },
  {
   "cell_type": "code",
   "execution_count": 9,
   "id": "1e290fe3",
   "metadata": {},
   "outputs": [],
   "source": [
    "# Create Column Transformer with 3 types of transformers\n",
    "num_features = X.select_dtypes(exclude=\"object\").columns\n",
    "cat_features = X.select_dtypes(include=\"object\").columns\n",
    "\n",
    "from sklearn.preprocessing import OneHotEncoder, StandardScaler\n",
    "from sklearn.compose import ColumnTransformer\n",
    "\n",
    "numeric_transformer = StandardScaler()\n",
    "oh_transformer = OneHotEncoder()\n",
    "\n",
    "preprocessor = ColumnTransformer(\n",
    "    [\n",
    "        (\"OneHotEncoder\", oh_transformer, cat_features),\n",
    "         (\"StandardScaler\", numeric_transformer, num_features),        \n",
    "    ]\n",
    ")"
   ]
  },
  {
   "cell_type": "code",
   "execution_count": 10,
   "id": "713bebff",
   "metadata": {},
   "outputs": [],
   "source": [
    "X = preprocessor.fit_transform(X)"
   ]
  },
  {
   "cell_type": "code",
   "execution_count": 11,
   "id": "3afc0540",
   "metadata": {},
   "outputs": [
    {
     "data": {
      "text/plain": [
       "<272301x809 sparse matrix of type '<class 'numpy.float64'>'\n",
       "\twith 1906107 stored elements in Compressed Sparse Row format>"
      ]
     },
     "execution_count": 11,
     "metadata": {},
     "output_type": "execute_result"
    }
   ],
   "source": [
    "X"
   ]
  },
  {
   "cell_type": "code",
   "execution_count": 12,
   "id": "72459f1d",
   "metadata": {},
   "outputs": [
    {
     "data": {
      "text/plain": [
       "(272301, 809)"
      ]
     },
     "execution_count": 12,
     "metadata": {},
     "output_type": "execute_result"
    }
   ],
   "source": [
    "X.shape"
   ]
  },
  {
   "cell_type": "code",
   "execution_count": 13,
   "id": "ed5c4e99",
   "metadata": {},
   "outputs": [
    {
     "data": {
      "text/plain": [
       "((217840, 809), (54461, 809))"
      ]
     },
     "execution_count": 13,
     "metadata": {},
     "output_type": "execute_result"
    }
   ],
   "source": [
    "# separate dataset into train and test\n",
    "from sklearn.model_selection import train_test_split\n",
    "X_train, X_test, y_train, y_test = train_test_split(X,y,test_size=0.2,random_state=42)\n",
    "X_train.shape, X_test.shape"
   ]
  },
  {
   "cell_type": "markdown",
   "id": "4cd80317",
   "metadata": {},
   "source": [
    "#### Create an Evaluate Function to give all metrics after model Training"
   ]
  },
  {
   "cell_type": "code",
   "execution_count": 14,
   "id": "8c247bd0",
   "metadata": {},
   "outputs": [],
   "source": [
    "def evaluate_model(true, predicted):\n",
    "    mae = mean_absolute_error(true, predicted)\n",
    "    mse = mean_squared_error(true, predicted)\n",
    "    rmse = np.sqrt(mean_squared_error(true, predicted))\n",
    "    r2_square = r2_score(true, predicted)\n",
    "    return mae, rmse, r2_square"
   ]
  },
  {
   "cell_type": "code",
   "execution_count": null,
   "id": "79ccb8e7",
   "metadata": {
    "scrolled": false
   },
   "outputs": [
    {
     "name": "stdout",
     "output_type": "stream",
     "text": [
      "Linear Regression\n",
      "Model performance for Training set\n",
      "- Root Mean Squared Error: 418.3661\n",
      "- Mean Absolute Error: 61.7393\n",
      "- R2 Score: 0.7933\n",
      "----------------------------------\n",
      "Model performance for Test set\n",
      "- Root Mean Squared Error: 396.9123\n",
      "- Mean Absolute Error: 62.3833\n",
      "- R2 Score: 0.8153\n",
      "===================================\n",
      "\n",
      "\n",
      "Lasso\n",
      "Model performance for Training set\n",
      "- Root Mean Squared Error: 421.6182\n",
      "- Mean Absolute Error: 50.5537\n",
      "- R2 Score: 0.7900\n",
      "----------------------------------\n",
      "Model performance for Test set\n",
      "- Root Mean Squared Error: 399.1375\n",
      "- Mean Absolute Error: 50.9260\n",
      "- R2 Score: 0.8132\n",
      "===================================\n",
      "\n",
      "\n",
      "Ridge\n",
      "Model performance for Training set\n",
      "- Root Mean Squared Error: 418.4114\n",
      "- Mean Absolute Error: 61.7342\n",
      "- R2 Score: 0.7932\n",
      "----------------------------------\n",
      "Model performance for Test set\n",
      "- Root Mean Squared Error: 396.6721\n",
      "- Mean Absolute Error: 62.3204\n",
      "- R2 Score: 0.8155\n",
      "===================================\n",
      "\n",
      "\n"
     ]
    }
   ],
   "source": [
    "models = {\n",
    "    \"Linear Regression\": LinearRegression(),\n",
    "    \"Lasso\": Lasso(),\n",
    "    \"Ridge\": Ridge(),\n",
    "    \"K-Neighbors Regressor\": KNeighborsRegressor(),\n",
    "    \"Decision Tree\": DecisionTreeRegressor(),\n",
    "    \"Random Forest Regressor\": RandomForestRegressor(),\n",
    "    \"XGBRegressor\": XGBRegressor(), \n",
    "    \"CatBoosting Regressor\": CatBoostRegressor(verbose=False),\n",
    "    \"AdaBoost Regressor\": AdaBoostRegressor()\n",
    "}\n",
    "model_list = []\n",
    "r2_list =[]\n",
    "\n",
    "for i in range(len(list(models))):\n",
    "    model = list(models.values())[i]\n",
    "    model.fit(X_train, y_train) # Train model\n",
    "\n",
    "    # Make predictions\n",
    "    y_train_pred = model.predict(X_train)\n",
    "    y_test_pred = model.predict(X_test)\n",
    "    \n",
    "    # Evaluate Train and Test dataset\n",
    "    model_train_mae , model_train_rmse, model_train_r2 = evaluate_model(y_train, y_train_pred)\n",
    "\n",
    "    model_test_mae , model_test_rmse, model_test_r2 = evaluate_model(y_test, y_test_pred)\n",
    "\n",
    "    \n",
    "    print(list(models.keys())[i])\n",
    "    model_list.append(list(models.keys())[i])\n",
    "    \n",
    "    print('Model performance for Training set')\n",
    "    print(\"- Root Mean Squared Error: {:.4f}\".format(model_train_rmse))\n",
    "    print(\"- Mean Absolute Error: {:.4f}\".format(model_train_mae))\n",
    "    print(\"- R2 Score: {:.4f}\".format(model_train_r2))\n",
    "\n",
    "    print('----------------------------------')\n",
    "    \n",
    "    print('Model performance for Test set')\n",
    "    print(\"- Root Mean Squared Error: {:.4f}\".format(model_test_rmse))\n",
    "    print(\"- Mean Absolute Error: {:.4f}\".format(model_test_mae))\n",
    "    print(\"- R2 Score: {:.4f}\".format(model_test_r2))\n",
    "    r2_list.append(model_test_r2)\n",
    "    \n",
    "    print('='*35)\n",
    "    print('\\n')"
   ]
  },
  {
   "cell_type": "markdown",
   "id": "06480b5a",
   "metadata": {},
   "source": [
    "### Results"
   ]
  },
  {
   "cell_type": "code",
   "execution_count": null,
   "id": "e0159e5f",
   "metadata": {},
   "outputs": [],
   "source": [
    "pd.DataFrame(list(zip(model_list, r2_list)), columns=['Model Name', 'R2_Score']).sort_values(by=[\"R2_Score\"],ascending=False)"
   ]
  },
  {
   "cell_type": "markdown",
   "id": "357a7c1c",
   "metadata": {},
   "source": [
    "## Linear Regression"
   ]
  },
  {
   "cell_type": "code",
   "execution_count": null,
   "id": "9a6ad559",
   "metadata": {},
   "outputs": [],
   "source": [
    "lin_model = LinearRegression(fit_intercept=True)\n",
    "lin_model = lin_model.fit(X_train, y_train)\n",
    "y_pred = lin_model.predict(X_test)\n",
    "score = r2_score(y_test, y_pred)*100\n",
    "print(\" Accuracy of the model is %.2f\" %score)"
   ]
  },
  {
   "cell_type": "markdown",
   "id": "1d31453e",
   "metadata": {},
   "source": [
    "## Plot y_pred and y_test"
   ]
  },
  {
   "cell_type": "code",
   "execution_count": null,
   "id": "eb557b0a",
   "metadata": {},
   "outputs": [],
   "source": [
    "plt.scatter(y_test,y_pred);\n",
    "plt.xlabel('Actual');\n",
    "plt.ylabel('Predicted');"
   ]
  },
  {
   "cell_type": "code",
   "execution_count": null,
   "id": "1e707ec3",
   "metadata": {},
   "outputs": [],
   "source": [
    "sns.regplot(x=y_test,y=y_pred,ci=None,color ='red');"
   ]
  },
  {
   "cell_type": "markdown",
   "id": "79c2fe28",
   "metadata": {},
   "source": [
    "#### Difference between Actual and Predicted Values"
   ]
  },
  {
   "cell_type": "code",
   "execution_count": null,
   "id": "7c9a8b48",
   "metadata": {},
   "outputs": [],
   "source": [
    "pred_df=pd.DataFrame({'Actual Value':y_test,'Predicted Value':y_pred,'Difference':y_test-y_pred})\n",
    "pred_df"
   ]
  }
 ],
 "metadata": {
  "kernelspec": {
   "display_name": "Python 3",
   "language": "python",
   "name": "python3"
  },
  "language_info": {
   "codemirror_mode": {
    "name": "ipython",
    "version": 3
   },
   "file_extension": ".py",
   "mimetype": "text/x-python",
   "name": "python",
   "nbconvert_exporter": "python",
   "pygments_lexer": "ipython3",
   "version": "3.9.0"
  }
 },
 "nbformat": 4,
 "nbformat_minor": 5
}
